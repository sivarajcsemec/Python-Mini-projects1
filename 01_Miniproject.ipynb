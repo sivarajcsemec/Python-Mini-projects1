{
 "cells": [
  {
   "cell_type": "code",
   "execution_count": null,
   "id": "614c4691",
   "metadata": {
    "tags": [
     "parameters"
    ]
   },
   "outputs": [
    {
     "ename": "IndentationError",
     "evalue": "expected an indented block after 'if' statement on line 104 (20130432.py, line 105)",
     "output_type": "error",
     "traceback": [
      "\u001b[1;36m  Cell \u001b[1;32mIn[1], line 105\u001b[1;36m\u001b[0m\n\u001b[1;33m    book_brow = b.get_user_input()\u001b[0m\n\u001b[1;37m    ^\u001b[0m\n\u001b[1;31mIndentationError\u001b[0m\u001b[1;31m:\u001b[0m expected an indented block after 'if' statement on line 104\n"
     ]
    }
   ],
   "source": [
    "#To Maintain the Library inventory software with .ipynb file and not using any file or database \n",
    "# All the books and member details are store in temporary dictionary to maintain \n",
    "#Show list of book available in library inventory from temporary dictionary \n",
    "#This module having feature to allow add and remove the book from temporary dictionary \n",
    "#This module allow assign inventory book to member and after returning book will removed from member and added back to main inventory. \n",
    "\n",
    "\n",
    "print (\"                            Library inventory software                  \")\n",
    "print ( \"                                                                 \")\n",
    "print (\"                            1.List of books avaliable \")\n",
    "print (\"                            2.Libary member books browed/return\")\n",
    "print (\"                            3.Manage/maintenance book and member\")\n",
    "\n",
    "\n",
    "try:\n",
    "    Key_sel = int(input (\"Press key to selection\"))\n",
    "\n",
    "    class library:\n",
    "\n",
    "        def list_books(self):\n",
    "            print ( \"                                                                 \")\n",
    "            print(\"**********List of books in Libary inventory***********************\")\n",
    "            print ( \"                                                                 \")\n",
    "            i = 1\n",
    "            for book in books:\n",
    "                print(f\"{i}.{book}\")\n",
    "                i+=1 \n",
    "\n",
    "    class Maint:\n",
    "\n",
    "        def add_book(self, book):\n",
    "            books.append(book)\n",
    "            print(f\"Added book succesfully: {book}\")\n",
    "        def remove_book(self,book):\n",
    "            books.remove(book) \n",
    "            print(f\"Succesfully book was removed: {book}\")\n",
    "        \n",
    "            \n",
    "\n",
    "    class book: \n",
    "\n",
    "        def validate_member(self):\n",
    "            self.mem_name = str(input(\"Enter the valid Member name\"))\n",
    "            if self.mem_name in Member: \n",
    "                Lib_search = True\n",
    "                print(Lib_search,self.mem_name)\n",
    "                return Lib_search,self.mem_name\n",
    "            \n",
    "            else:\n",
    "                print(f\"{mem_name} is Not valid member \")\n",
    "                Lib_search = False\n",
    "                return Lib_search,mem_name \n",
    "        \n",
    "        def get_user_input(self): \n",
    "            print(\"a.Brow the book from libary inventory\")\n",
    "            print(\"b.Return the book to libary inventory\")\n",
    "            user_input = input(\"press key to selection\")\n",
    "            return user_input\n",
    "\n",
    "        def validate_user_book(self,user_input):\n",
    "            if user_input == \"a\":\n",
    "                book_name = str(input(\"Enter book name to brow\"))\n",
    "                book_brow = True\n",
    "                return book_brow,book_name\n",
    "            elif user_input == 'b':\n",
    "                book_name1 = str(input(\"Enter book name to return\"))\n",
    "                book_brow = False\n",
    "                return book_brow,book_name1\n",
    "            else: \n",
    "                print (\"Invalid selection key\") \n",
    "        \n",
    "    def manage():\n",
    "        print(\"a.Manage book to Add libary inventory\")\n",
    "        print(\"b.Manage book to Remove from inventory\") \n",
    "        key_manage = input(\"press key to selection\")\n",
    "\n",
    "        if key_manage == \"a\":\n",
    "            book_name = str(input(\"Enter book name\"))\n",
    "            add = Maint() \n",
    "            add.add_book(book_name)\n",
    "        elif key_manage == \"b\":\n",
    "            book_name1 = str(input(\"Enter book name to remove from inventory\"))\n",
    "            rem = Maint() \n",
    "            rem.remove_book(book_name1)\n",
    "        else:\n",
    "            print (\"invalid selection key\")\n",
    "\n",
    "    def validate_member():\n",
    "        mem_name = str(input(\"Enter the valid Member name\"))\n",
    "        if mem_name in Member: \n",
    "            Lib_search = True \n",
    "            return Lib_search\n",
    "        else:\n",
    "            print(f\"{mem_name} is Not valid member \")\n",
    "            Lib_search = False\n",
    "            return Lib_search\n",
    "\n",
    "    if Key_sel == 1:\n",
    "        lib = library() \n",
    "        lib.list_books() \n",
    "    elif Key_sel == 2: \n",
    "        b = book()\n",
    "        Lib_search,mem_name = b.validate_member()\n",
    "        if Lib_search:  \n",
    "           book_brow = b.get_user_input()\n",
    "           book_brow1,book_name = b.validate_user_book(book_brow)\n",
    "            \n",
    "        if book_brow1 == True: \n",
    "            my_dict[mem_name] = book_name\n",
    "            rem = Maint() \n",
    "            rem.remove_book(book_name) \n",
    "        elif book_brow1 == False:   \n",
    "    #       print(\"member name\",mem_name)  \n",
    "    #       print(type(mem_name))\n",
    "            del my_dict[mem_name]\n",
    "            add = Maint() \n",
    "            add.add_book(book_name)\n",
    "    elif Key_sel == 3: \n",
    "        manage() \n",
    "    else:\n",
    "        print (\"invalid selection key\")\n",
    "        raise ValueError(\"Closing the application.\")\n",
    "except:\n",
    "     print(\"Error occured. Please try again with a different input\")\n",
    "\n",
    "\n",
    "\n",
    "\n"
   ]
  },
  {
   "cell_type": "code",
   "execution_count": 11,
   "id": "16b32361",
   "metadata": {},
   "outputs": [],
   "source": [
    "Member = ['1111','1112','1113','1114']"
   ]
  },
  {
   "cell_type": "code",
   "execution_count": 3,
   "id": "7a37992c",
   "metadata": {},
   "outputs": [],
   "source": [
    "books = ['Harry Potter','Rich Dad Poor Dad','Atomic habits','The Power of subconscious mind']"
   ]
  },
  {
   "cell_type": "code",
   "execution_count": 13,
   "id": "97b50273",
   "metadata": {},
   "outputs": [],
   "source": [
    "my_dict = {}"
   ]
  },
  {
   "cell_type": "code",
   "execution_count": 12,
   "id": "766892ba",
   "metadata": {},
   "outputs": [
    {
     "ename": "NameError",
     "evalue": "name 'my_dict' is not defined",
     "output_type": "error",
     "traceback": [
      "\u001b[1;31m---------------------------------------------------------------------------\u001b[0m",
      "\u001b[1;31mNameError\u001b[0m                                 Traceback (most recent call last)",
      "Cell \u001b[1;32mIn[12], line 1\u001b[0m\n\u001b[1;32m----> 1\u001b[0m \u001b[38;5;28mprint\u001b[39m(my_dict)\n\u001b[0;32m      2\u001b[0m \u001b[38;5;28mprint\u001b[39m(Member)\n\u001b[0;32m      3\u001b[0m \u001b[38;5;28mprint\u001b[39m(books)\n",
      "\u001b[1;31mNameError\u001b[0m: name 'my_dict' is not defined"
     ]
    }
   ],
   "source": [
    "print(my_dict)\n",
    "print(Member)\n",
    "print(books)"
   ]
  },
  {
   "cell_type": "code",
   "execution_count": 131,
   "id": "f9401af6",
   "metadata": {},
   "outputs": [
    {
     "ename": "TypeError",
     "evalue": "'dict' object is not callable",
     "output_type": "error",
     "traceback": [
      "\u001b[1;31m---------------------------------------------------------------------------\u001b[0m",
      "\u001b[1;31mTypeError\u001b[0m                                 Traceback (most recent call last)",
      "Cell \u001b[1;32mIn[131], line 1\u001b[0m\n\u001b[1;32m----> 1\u001b[0m my_dict(\u001b[38;5;241m1112\u001b[39m)\n",
      "\u001b[1;31mTypeError\u001b[0m: 'dict' object is not callable"
     ]
    }
   ],
   "source": [
    "my_dict(1112)"
   ]
  },
  {
   "cell_type": "code",
   "execution_count": 49,
   "id": "57825354",
   "metadata": {},
   "outputs": [
    {
     "ename": "NameError",
     "evalue": "name 'sys' is not defined",
     "output_type": "error",
     "traceback": [
      "\u001b[1;31m---------------------------------------------------------------------------\u001b[0m",
      "\u001b[1;31mNameError\u001b[0m                                 Traceback (most recent call last)",
      "Cell \u001b[1;32mIn[49], line 9\u001b[0m\n\u001b[0;32m      7\u001b[0m         \u001b[38;5;28mprint\u001b[39m(\u001b[38;5;124m\"\u001b[39m\u001b[38;5;124mError occured. Please try again with a different input\u001b[39m\u001b[38;5;124m\"\u001b[39m)\n\u001b[0;32m      8\u001b[0m \u001b[38;5;28;01melif\u001b[39;00m val \u001b[38;5;241m==\u001b[39m \u001b[38;5;124m\"\u001b[39m\u001b[38;5;124m1\u001b[39m\u001b[38;5;124m\"\u001b[39m:    \n\u001b[1;32m----> 9\u001b[0m     sys\u001b[38;5;241m.\u001b[39mexit(\u001b[38;5;241m0\u001b[39m)\n",
      "\u001b[1;31mNameError\u001b[0m: name 'sys' is not defined"
     ]
    }
   ],
   "source": [
    "val = input(\"Enter values 0 to start and 1 to exit : \")\n",
    "\n",
    "if val == \"0\":\n",
    "    try :\n",
    "        value1 = int(input(\"Enter a value : \"))\n",
    "    except:\n",
    "        print(\"Error occured. Please try again with a different input\")\n",
    "elif val == \"1\":    \n",
    "    sys.exit(0)"
   ]
  }
 ],
 "metadata": {
  "kernelspec": {
   "display_name": "base",
   "language": "python",
   "name": "python3"
  },
  "language_info": {
   "codemirror_mode": {
    "name": "ipython",
    "version": 3
   },
   "file_extension": ".py",
   "mimetype": "text/x-python",
   "name": "python",
   "nbconvert_exporter": "python",
   "pygments_lexer": "ipython3",
   "version": "3.12.7"
  }
 },
 "nbformat": 4,
 "nbformat_minor": 5
}
